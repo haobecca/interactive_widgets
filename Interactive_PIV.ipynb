{
 "cells": [
  {
   "cell_type": "code",
   "execution_count": 2,
   "metadata": {},
   "outputs": [],
   "source": [
    "# Import packages\n",
    "from __future__ import print_function\n",
    "from ipywidgets import interact, interactive, fixed, interact_manual\n",
    "import ipywidgets as widgets\n",
    "from IPython.display import display\n",
    "\n",
    "import pandas as pd\n",
    "from numpy import genfromtxt"
   ]
  },
  {
   "cell_type": "code",
   "execution_count": 34,
   "metadata": {},
   "outputs": [
    {
     "data": {
      "application/vnd.jupyter.widget-view+json": {
       "model_id": "27d7a86f884542ea80798850278d5245",
       "version_major": 2,
       "version_minor": 0
      },
      "text/plain": [
       "HBox(children=(VBox(children=(Dropdown(description='Input Folder', options=('Data Source 1', 'Data Source 2', …"
      ]
     },
     "metadata": {},
     "output_type": "display_data"
    }
   ],
   "source": [
    "style = {'description_width': 'initial'}\n",
    "# Select folder and data source\n",
    "source = widgets.Dropdown(options=['Data Source 1', 'Data Source 2', 'Data Source 3'],\n",
    "                 value = 'Data Source 1',\n",
    "                 description = 'Input Folder',\n",
    "                 disabled = False)\n",
    "# Multiple values can be selected with shift and/or ctrl (or command) pressed and mouse clicks or arrow keys \n",
    "node1 = widgets.Dropdown(\n",
    "    options=['Mode', 'SVD', 'Structured'],\n",
    "    value='Mode',\n",
    "    description='First node:',\n",
    "    disabled=False,\n",
    "    style=style,\n",
    ")\n",
    "node2 = widgets.Dropdown(\n",
    "    options=['Mode', 'SVD', 'Structured'],\n",
    "    value='Mode',\n",
    "    description='Next node:',\n",
    "    disabled=False,\n",
    "    style=style,\n",
    ")\n",
    "node3 = widgets.Dropdown(\n",
    "    options=['Mode', 'SVD', 'Structured'],\n",
    "    value='Mode',\n",
    "    description='Next node: ',\n",
    "    disabled=False,\n",
    "    style=style,\n",
    ")\n",
    "def f(node1, node2, node3):\n",
    "    print('    Selected Node Sequence : {}'.format(node1 + ' -> '+ node2 + ' -> '+ node3));\n",
    "\n",
    "out = widgets.interactive_output(f, {'node1': node1, 'node2': node2, 'node3': node3})\n",
    "\n",
    "widgets.HBox([widgets.VBox([source, node1, node2, node3]), out])"
   ]
  },
  {
   "cell_type": "code",
   "execution_count": 39,
   "metadata": {},
   "outputs": [
    {
     "data": {
      "text/plain": [
       "array([[ 4.6295706e+02,  1.8335734e+01, -4.7589150e+02, -2.0655120e-01,\n",
       "         8.7536400e-02, -2.6800000e-02,  1.0000000e+00,  0.0000000e+00,\n",
       "         7.0000000e+00,            nan],\n",
       "       [ 4.6681356e+02,  1.7262594e+01, -4.7448900e+02, -2.0024960e-01,\n",
       "        -2.7583800e-01, -1.6880000e-01,  1.0000000e+00,  4.0000000e+00,\n",
       "         1.8000000e+01,            nan],\n",
       "       [ 4.6381637e+02,  1.7710637e+01, -4.7494800e+02, -2.4833880e-01,\n",
       "         5.1970000e-02, -8.0800000e-02,  1.0000000e+00,  5.0000000e+00,\n",
       "         1.1000000e+01,            nan],\n",
       "       [ 4.6975789e+02,  1.7005337e+01, -4.7240000e+02, -4.4741200e-02,\n",
       "         1.7538400e-02, -2.4000000e-02,  1.0000000e+00,  6.0000000e+00,\n",
       "         1.5000000e+01,            nan],\n",
       "       [ 4.6874886e+02,  1.6480632e+01, -4.7438550e+02, -5.7025200e-02,\n",
       "         2.0133200e-02, -3.0000000e-02,  1.0000000e+00,  1.0000000e+01,\n",
       "         2.1000000e+01,            nan],\n",
       "       [ 4.6281908e+02,  1.6288206e+01, -4.7470450e+02, -2.4886400e-02,\n",
       "        -7.2222000e-02, -6.7600000e-02,  1.0000000e+00,  1.1000000e+01,\n",
       "         2.8000000e+01,            nan],\n",
       "       [ 4.6824437e+02,  1.6281670e+01, -4.7261350e+02, -2.2811680e-01,\n",
       "         9.4383600e-02, -5.0800000e-02,  1.0000000e+00,  1.3000000e+01,\n",
       "         1.9000000e+01,            nan],\n",
       "       [ 4.6544306e+02,  1.6228377e+01, -4.7408500e+02,  2.0756240e-01,\n",
       "         1.0955080e-01, -6.8800000e-02,  1.0000000e+00,  1.5000000e+01,\n",
       "         2.5000000e+01,            nan],\n",
       "       [ 4.6600206e+02,  1.6167407e+01, -4.7523400e+02, -6.8650400e-02,\n",
       "         1.0270000e-02, -1.6800000e-02,  1.0000000e+00,  1.6000000e+01,\n",
       "         3.1000000e+01,            nan]])"
      ]
     },
     "execution_count": 39,
     "metadata": {},
     "output_type": "execute_result"
    }
   ],
   "source": [
    "# Directing to the correct folder per the user's selection\n",
    "data_source_dict = {'Data Source 1':'dat1', 'Data Source 2':'dat2', 'Data Source 3':'dat3'}\n",
    "data = data_source_dict[source.value] + '/dummy_data.csv'\n",
    "# Not sure how you want to read out the data so doing a numpy array to show the data was reached successfully\n",
    "my_data = genfromtxt(data, delimiter=',')\n",
    "my_data"
   ]
  },
  {
   "cell_type": "code",
   "execution_count": null,
   "metadata": {},
   "outputs": [],
   "source": [
    "%%"
   ]
  }
 ],
 "metadata": {
  "kernelspec": {
   "display_name": "Python 3",
   "language": "python",
   "name": "python3"
  },
  "language_info": {
   "codemirror_mode": {
    "name": "ipython",
    "version": 3
   },
   "file_extension": ".py",
   "mimetype": "text/x-python",
   "name": "python",
   "nbconvert_exporter": "python",
   "pygments_lexer": "ipython3",
   "version": "3.6.7"
  }
 },
 "nbformat": 4,
 "nbformat_minor": 2
}
